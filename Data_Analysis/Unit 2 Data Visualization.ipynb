{
 "cells": [
  {
   "cell_type": "code",
   "execution_count": 2,
   "id": "ef774224",
   "metadata": {},
   "outputs": [],
   "source": [
    "import numpy as np\n",
    "import pandas as pd\n",
    "import matplotlib.pyplot as plt"
   ]
  },
  {
   "cell_type": "markdown",
   "id": "a3532d50",
   "metadata": {},
   "source": [
    "### Bar Graph and Pie Chart"
   ]
  },
  {
   "cell_type": "code",
   "execution_count": null,
   "id": "ad1bc510",
   "metadata": {},
   "outputs": [],
   "source": [
    "data=pd.read_csv(\"Marital Status.csv\")"
   ]
  },
  {
   "cell_type": "code",
   "execution_count": null,
   "id": "59b40f01",
   "metadata": {},
   "outputs": [],
   "source": [
    "data"
   ]
  },
  {
   "cell_type": "code",
   "execution_count": null,
   "id": "fd9f1cd6",
   "metadata": {},
   "outputs": [],
   "source": [
    "data.head()"
   ]
  },
  {
   "cell_type": "code",
   "execution_count": null,
   "id": "9e1001d3",
   "metadata": {},
   "outputs": [],
   "source": [
    "status_count=data['Marital Status'].value_counts()"
   ]
  },
  {
   "cell_type": "code",
   "execution_count": null,
   "id": "67e867e0",
   "metadata": {
    "scrolled": false
   },
   "outputs": [],
   "source": [
    "status_count"
   ]
  },
  {
   "cell_type": "code",
   "execution_count": null,
   "id": "358537a4",
   "metadata": {},
   "outputs": [],
   "source": [
    "status_count.index"
   ]
  },
  {
   "cell_type": "code",
   "execution_count": null,
   "id": "c270614a",
   "metadata": {},
   "outputs": [],
   "source": [
    "status_count.values"
   ]
  },
  {
   "cell_type": "code",
   "execution_count": null,
   "id": "b25df644",
   "metadata": {},
   "outputs": [],
   "source": [
    "plt.bar(status_count.index, status_count.values, color=['blue', 'green', 'red'])\n",
    "plt.title('Marital Status Distribution (Bar Graph)')\n",
    "plt.xlabel('Marital Status')\n",
    "plt.ylabel('Count')\n",
    "plt.show()"
   ]
  },
  {
   "cell_type": "code",
   "execution_count": null,
   "id": "e1b14a1c",
   "metadata": {},
   "outputs": [],
   "source": [
    "plt.figure(figsize=(8, 8))\n",
    "plt.pie(status_count.values, labels=status_count.index, autopct='%1.1f%%', colors=['blue', 'green', 'red'])\n",
    "plt.title('Marital Status Distribution (Pie Chart)')\n",
    "plt.show()"
   ]
  },
  {
   "cell_type": "code",
   "execution_count": null,
   "id": "4481b328",
   "metadata": {},
   "outputs": [],
   "source": [
    "plt.figure(figsize=(8, 5))"
   ]
  },
  {
   "cell_type": "code",
   "execution_count": null,
   "id": "7589605b",
   "metadata": {},
   "outputs": [],
   "source": [
    "status_count.plot(kind='bar', color=['blue', 'green', 'red', 'purple'])"
   ]
  },
  {
   "cell_type": "code",
   "execution_count": null,
   "id": "14908694",
   "metadata": {},
   "outputs": [],
   "source": [
    "status_count.plot(kind='bar', color=['blue', 'green', 'red', 'purple'])\n",
    "plt.xlabel('Marital Status')\n",
    "plt.ylabel('Count')\n",
    "plt.title('Marital Status Distribution')\n",
    "plt.xticks"
   ]
  },
  {
   "cell_type": "code",
   "execution_count": null,
   "id": "081eb534",
   "metadata": {},
   "outputs": [],
   "source": [
    "status_count.plot(kind='bar', color=['blue', 'green', 'red', 'purple'])\n",
    "plt.xticks(rotation=0)\n",
    "plt.grid(axis='y', linestyle='--', alpha=0.7)\n",
    "plt.show()"
   ]
  },
  {
   "cell_type": "code",
   "execution_count": null,
   "id": "6976cdc8",
   "metadata": {},
   "outputs": [],
   "source": [
    "plt.figure(figsize=(6, 6))\n",
    "status_count.plot(kind='pie', autopct='%1.1f%%', colors=['lightblue', 'lightgreen', 'lightcoral', 'purple'])\n",
    "plt.ylabel('')\n",
    "plt.title('Marital Status Proportion')\n",
    "plt.show()"
   ]
  },
  {
   "cell_type": "markdown",
   "id": "3ca90805",
   "metadata": {},
   "source": [
    "## Scatter Diagram"
   ]
  },
  {
   "cell_type": "code",
   "execution_count": null,
   "id": "9dfe611d",
   "metadata": {},
   "outputs": [],
   "source": [
    "x = [5, 7, 8, 10, 12, 14, 18]\n",
    "y = [8, 14, 12, 20, 22, 24, 27]\n",
    "\n",
    "plt.scatter(x, y, color='blue', label='Data Points')\n",
    "\n",
    "plt.xlabel('X-axis')\n",
    "plt.ylabel('Y-axis')\n",
    "plt.title('Scatter Plot Example')\n",
    "plt.legend()\n",
    "\n",
    "plt.show()"
   ]
  },
  {
   "cell_type": "code",
   "execution_count": null,
   "id": "e96777db",
   "metadata": {},
   "outputs": [],
   "source": [
    "# Sample data (single column)\n",
    "y = [5, 12, 7, 15, 20, 18, 25]\n",
    "\n",
    "# Use index as X-axis\n",
    "x = range(len(y))\n",
    "\n",
    "plt.scatter(x, y, color='red', label='Data Points')\n",
    "plt.xlabel('Index')\n",
    "plt.ylabel('Y-axis Values')\n",
    "plt.title('Scatter Plot with Single Column')\n",
    "plt.legend()\n",
    "plt.show()\n"
   ]
  },
  {
   "cell_type": "code",
   "execution_count": null,
   "id": "9eab8425",
   "metadata": {},
   "outputs": [],
   "source": [
    "y = [5, 12, 7, 15, 20, 18, 25]"
   ]
  },
  {
   "cell_type": "code",
   "execution_count": null,
   "id": "1488d452",
   "metadata": {},
   "outputs": [],
   "source": [
    "x =range(len(y))\n",
    "print(x)"
   ]
  },
  {
   "cell_type": "code",
   "execution_count": null,
   "id": "f869460f",
   "metadata": {},
   "outputs": [],
   "source": [
    "data= pd.read_csv('2.2 Table data.csv')"
   ]
  },
  {
   "cell_type": "code",
   "execution_count": null,
   "id": "601e2a80",
   "metadata": {},
   "outputs": [],
   "source": [
    "data"
   ]
  },
  {
   "cell_type": "code",
   "execution_count": null,
   "id": "a85e3cd7",
   "metadata": {},
   "outputs": [],
   "source": [
    "plt.figure(figsize=(8, 5))\n",
    "plt.scatter(range(len(data)), data, color='blue', label='Data Points')\n",
    "plt.xlabel('Index')\n",
    "plt.ylabel('Values')\n",
    "plt.title('Scatter Plot')\n",
    "#plt.grid(True, linestyle='--', alpha=0.7)\n",
    "plt.legend()\n",
    "plt.show()"
   ]
  },
  {
   "cell_type": "code",
   "execution_count": null,
   "id": "6871256a",
   "metadata": {},
   "outputs": [],
   "source": [
    "y = [5, 12, 7, 15, 20, 18, 25]\n",
    "\n",
    "# Generate random x-values \n",
    "x = np.random.randint(1, 100, len(y))\n",
    "\n",
    "plt.scatter(x, y, color='blue', label='Data Points')\n",
    "plt.xlabel('X-axis (Generated)')\n",
    "plt.ylabel('Y-axis Values')\n",
    "plt.title('Scatter Plot with Random X-axis')\n",
    "plt.legend()\n",
    "plt.show()\n",
    "x=np.random"
   ]
  },
  {
   "cell_type": "markdown",
   "id": "ea5d4c6d",
   "metadata": {},
   "source": [
    "## Line Chart"
   ]
  },
  {
   "cell_type": "code",
   "execution_count": null,
   "id": "3649ec33",
   "metadata": {},
   "outputs": [],
   "source": [
    "data= pd.read_csv('2.2 Table data.csv')\n",
    "data"
   ]
  },
  {
   "cell_type": "code",
   "execution_count": null,
   "id": "ceea9a31",
   "metadata": {},
   "outputs": [],
   "source": [
    "plt.figure(figsize=(8, 5))\n",
    "plt.plot(data, color='green', marker='o', label='Line Data')\n",
    "plt.xlabel('Index')\n",
    "plt.ylabel('Values')\n",
    "plt.title('Line Chart')\n",
    "plt.grid(True, linestyle='--', alpha=0.7)\n",
    "plt.legend()\n",
    "plt.show()"
   ]
  },
  {
   "cell_type": "markdown",
   "id": "5e5c372d",
   "metadata": {},
   "source": [
    "## Histogram"
   ]
  },
  {
   "cell_type": "code",
   "execution_count": null,
   "id": "be6f125f",
   "metadata": {
    "scrolled": true
   },
   "outputs": [],
   "source": [
    "data = [12, 15, 17, 19, 22, 22, 24, 26, 28, 28, 30, 33, 35, 37, 39, 40, 42]\n",
    "\n",
    "plt.hist(data, bins=6, color='skyblue', edgecolor='black')\n",
    "plt.xlabel('Value Ranges')\n",
    "plt.ylabel('Frequency')\n",
    "plt.title('Histogram Example')\n",
    "plt.show()"
   ]
  },
  {
   "cell_type": "code",
   "execution_count": null,
   "id": "d4ebffe5",
   "metadata": {},
   "outputs": [],
   "source": [
    "data = [10, 15, 17, 20, 22, 24, 27, 30, 31, 33, 35, 37, 40, 42, 45, 50]\n",
    "\n",
    "bins = [10, 20, 30, 40, 50, 60]  # Define bin edges\n",
    "plt.hist(data, bins=bins, color='orange', edgecolor='black')\n",
    "plt.xlabel('Value Ranges')\n",
    "plt.ylabel('Frequency')\n",
    "plt.title('Histogram with Custom Bins')\n",
    "plt.show()"
   ]
  },
  {
   "cell_type": "code",
   "execution_count": null,
   "id": "df43456e",
   "metadata": {},
   "outputs": [],
   "source": [
    "data= pd.read_csv('2.2 Table data.csv')"
   ]
  },
  {
   "cell_type": "code",
   "execution_count": null,
   "id": "46339457",
   "metadata": {},
   "outputs": [],
   "source": [
    "plt.figure(figsize=(8, 5))\n",
    "plt.hist(data,bins=10, color='orange', label='Histogram')\n",
    "plt.xlabel('Values')\n",
    "plt.ylabel('Frequency')\n",
    "plt.title('Histogram and Cumulative Distributions')\n",
    "plt.grid(True, linestyle='--', alpha=0.7)\n",
    "plt.legend()\n",
    "plt.show()"
   ]
  },
  {
   "cell_type": "markdown",
   "id": "875d839a",
   "metadata": {},
   "source": [
    "## Area Chart"
   ]
  },
  {
   "cell_type": "code",
   "execution_count": null,
   "id": "b602cfac",
   "metadata": {},
   "outputs": [],
   "source": [
    "x = [1, 2, 3, 4, 5, 6, 7]\n",
    "y = [10, 15, 12, 18, 24, 20, 28]\n",
    "\n",
    "plt.fill_between(x, y, color='skyblue', alpha=0.5)\n",
    "plt.plot(x, y, color='blue', label='Data Line')\n",
    "plt.xlabel('X-axis Label')\n",
    "plt.ylabel('Y-axis Label')\n",
    "plt.title('Area Chart Example')\n",
    "plt.legend()\n",
    "plt.show()"
   ]
  },
  {
   "cell_type": "code",
   "execution_count": null,
   "id": "028523a1",
   "metadata": {},
   "outputs": [],
   "source": [
    "## plt.fill_between(x, y) → Fills the area between X-axis and Y-axis.\n",
    "## alpha=0.5 → Sets transparency for better visualization."
   ]
  },
  {
   "cell_type": "code",
   "execution_count": null,
   "id": "1082ae70",
   "metadata": {
    "scrolled": true
   },
   "outputs": [],
   "source": [
    "data= pd.read_csv('2.2 Table data.csv')\n",
    "data"
   ]
  },
  {
   "cell_type": "code",
   "execution_count": null,
   "id": "70f97f1e",
   "metadata": {},
   "outputs": [],
   "source": [
    "data= pd.read_csv('2.2 Table data.csv')\n",
    "x=list(range(len(data)))\n",
    "plt.figure(figsize=(8, 5))"
   ]
  },
  {
   "cell_type": "code",
   "execution_count": null,
   "id": "10003c16",
   "metadata": {},
   "outputs": [],
   "source": [
    "y = data.iloc[:, 0]\n",
    "y  ### iloc[:, 0] selects all rows (:) from the first column (0)."
   ]
  },
  {
   "cell_type": "code",
   "execution_count": null,
   "id": "3e9dcfab",
   "metadata": {
    "scrolled": true
   },
   "outputs": [],
   "source": [
    "plt.fill_between(x,y,color='skyblue', alpha=0.5, label='Area Data')\n",
    "plt.plot(data, color='blue', label='Data Line')\n",
    "plt.xlabel('Index')\n",
    "plt.ylabel('Values')\n",
    "plt.title('Area Chart')\n",
    "plt.legend()\n",
    "plt.show()"
   ]
  },
  {
   "cell_type": "markdown",
   "id": "d66479f4",
   "metadata": {},
   "source": [
    "## Ogive (Cummulative Frequency)"
   ]
  },
  {
   "cell_type": "code",
   "execution_count": null,
   "id": "e780f2ea",
   "metadata": {},
   "outputs": [],
   "source": [
    "data= pd.read_csv('2.2 Table data.csv')\n",
    "data\n",
    "y = data.iloc[:, 0]\n",
    "y"
   ]
  },
  {
   "cell_type": "code",
   "execution_count": null,
   "id": "ed9d79b5",
   "metadata": {},
   "outputs": [],
   "source": [
    "data_sorted = np.sort(y)\n",
    "cumulative_frequency = np.arange(1, len(data_sorted) + 1) / len(data_sorted)\n",
    "plt.figure(figsize=(8, 5))\n",
    "plt.plot(data_sorted, cumulative_frequency, marker='o', linestyle='-', color='purple', label='Ogive')\n",
    "plt.xlabel('Values')\n",
    "plt.ylabel('Cumulative Frequency')\n",
    "plt.title('Ogive (Cumulative Frequency Plot)')\n",
    "plt.grid(True, linestyle='--', alpha=0.7)\n",
    "plt.legend()\n",
    "plt.show()"
   ]
  },
  {
   "cell_type": "code",
   "execution_count": null,
   "id": "075cdecc",
   "metadata": {},
   "outputs": [],
   "source": [
    "data= pd.read_csv('2.2 Table data.csv')\n",
    "data\n",
    "y = data.iloc[:, 0]\n",
    "y"
   ]
  },
  {
   "cell_type": "code",
   "execution_count": null,
   "id": "de267019",
   "metadata": {},
   "outputs": [],
   "source": [
    "data_sorted = np.sort(y)\n",
    "cumulative_frequency = []\n",
    "total_values = len(data_sorted)\n",
    "for i in range(total_values):\n",
    "    cumulative_frequency.append((i + 1) / total_values)\n",
    "\n",
    "plt.figure(figsize=(8, 5))\n",
    "plt.plot(data_sorted, cumulative_frequency, marker='o', linestyle='-', color='purple', label='Ogive')\n",
    "plt.xlabel('Values')\n",
    "plt.ylabel('Cumulative Frequency')\n",
    "plt.title('Ogive')\n",
    "plt.legend()\n",
    "plt.show()"
   ]
  },
  {
   "cell_type": "code",
   "execution_count": null,
   "id": "faf98a83",
   "metadata": {},
   "outputs": [],
   "source": [
    "data = [12, 14, 19, 18, 15, 15, 18, 17, 20, 27, \n",
    "        22, 23, 22, 21, 33, 28, 14, 18, 16, 13]"
   ]
  },
  {
   "cell_type": "code",
   "execution_count": null,
   "id": "bfe2d842",
   "metadata": {
    "scrolled": true
   },
   "outputs": [],
   "source": [
    "x = sorted(data)\n",
    "x"
   ]
  },
  {
   "cell_type": "code",
   "execution_count": null,
   "id": "0778d36f",
   "metadata": {},
   "outputs": [],
   "source": [
    "list(range(1,len(x)+1))"
   ]
  },
  {
   "cell_type": "code",
   "execution_count": null,
   "id": "c46a03fd",
   "metadata": {},
   "outputs": [],
   "source": [
    "cum_freq = list(range(1, len(x) + 1))\n",
    "cum_freq"
   ]
  },
  {
   "cell_type": "code",
   "execution_count": null,
   "id": "f9cd9a48",
   "metadata": {},
   "outputs": [],
   "source": [
    "plt.figure(figsize=(8,6))\n",
    "plt.plot(x, cum_freq, marker='o', color='b')\n",
    "plt.title(\"Ogive (Cumulative Frequency Curve)\")\n",
    "plt.xlabel(\"Audit Times (in days)\")\n",
    "plt.ylabel(\"Cumulative Frequency\")\n",
    "plt.grid(True, linestyle=\"--\", alpha=0.6)\n",
    "plt.show()"
   ]
  },
  {
   "cell_type": "markdown",
   "id": "bb4e79f5",
   "metadata": {},
   "source": [
    "## Dot Plot"
   ]
  },
  {
   "cell_type": "code",
   "execution_count": null,
   "id": "8e64dd55",
   "metadata": {},
   "outputs": [],
   "source": [
    "data= pd.read_csv('2.2 Table data.csv')\n",
    "data"
   ]
  },
  {
   "cell_type": "code",
   "execution_count": null,
   "id": "e766da33",
   "metadata": {},
   "outputs": [],
   "source": [
    "y= [1] * len(data)\n",
    "y"
   ]
  },
  {
   "cell_type": "code",
   "execution_count": null,
   "id": "b7e5f082",
   "metadata": {
    "scrolled": true
   },
   "outputs": [],
   "source": [
    "plt.figure(figsize=(8, 5))\n",
    "plt.plot(data, [1] * len(data), 'ro', label='Dot Plot')\n",
    "plt.yticks([])\n",
    "plt.xlabel('Values')\n",
    "plt.title('Dot Plot')\n",
    "plt.grid(axis='x', linestyle='--', alpha=0.7)\n",
    "plt.show()"
   ]
  },
  {
   "cell_type": "code",
   "execution_count": null,
   "id": "a312b21a",
   "metadata": {},
   "outputs": [],
   "source": []
  }
 ],
 "metadata": {
  "kernelspec": {
   "display_name": "Python 3 (ipykernel)",
   "language": "python",
   "name": "python3"
  },
  "language_info": {
   "codemirror_mode": {
    "name": "ipython",
    "version": 3
   },
   "file_extension": ".py",
   "mimetype": "text/x-python",
   "name": "python",
   "nbconvert_exporter": "python",
   "pygments_lexer": "ipython3",
   "version": "3.11.5"
  }
 },
 "nbformat": 4,
 "nbformat_minor": 5
}
