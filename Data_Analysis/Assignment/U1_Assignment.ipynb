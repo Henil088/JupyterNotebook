{
 "cells": [
  {
   "cell_type": "code",
   "execution_count": 1,
   "id": "7c5aa6c8-2ea5-4ee3-8656-e40453baf050",
   "metadata": {},
   "outputs": [],
   "source": [
    "#1. Create a data frame of the below table.\n",
    "import pandas as pd\n",
    "import numpy as np\n",
    "import matplotlib.pyplot as plt"
   ]
  },
  {
   "cell_type": "code",
   "execution_count": 13,
   "id": "15181f31-e137-4a2d-9b88-3aa244bb2c2c",
   "metadata": {},
   "outputs": [
    {
     "data": {
      "text/html": [
       "<div>\n",
       "<style scoped>\n",
       "    .dataframe tbody tr th:only-of-type {\n",
       "        vertical-align: middle;\n",
       "    }\n",
       "\n",
       "    .dataframe tbody tr th {\n",
       "        vertical-align: top;\n",
       "    }\n",
       "\n",
       "    .dataframe thead th {\n",
       "        text-align: right;\n",
       "    }\n",
       "</style>\n",
       "<table border=\"1\" class=\"dataframe\">\n",
       "  <thead>\n",
       "    <tr style=\"text-align: right;\">\n",
       "      <th></th>\n",
       "      <th>Name</th>\n",
       "      <th>Age</th>\n",
       "      <th>Salary</th>\n",
       "    </tr>\n",
       "  </thead>\n",
       "  <tbody>\n",
       "    <tr>\n",
       "      <th>0</th>\n",
       "      <td>Mahesh</td>\n",
       "      <td>23</td>\n",
       "      <td>10000</td>\n",
       "    </tr>\n",
       "    <tr>\n",
       "      <th>1</th>\n",
       "      <td>Kiran</td>\n",
       "      <td>25</td>\n",
       "      <td>12000</td>\n",
       "    </tr>\n",
       "    <tr>\n",
       "      <th>2</th>\n",
       "      <td>Suresh</td>\n",
       "      <td>28</td>\n",
       "      <td>15000</td>\n",
       "    </tr>\n",
       "    <tr>\n",
       "      <th>3</th>\n",
       "      <td>Sumit</td>\n",
       "      <td>26</td>\n",
       "      <td>14000</td>\n",
       "    </tr>\n",
       "    <tr>\n",
       "      <th>4</th>\n",
       "      <td>Ramesh</td>\n",
       "      <td>27</td>\n",
       "      <td>25000</td>\n",
       "    </tr>\n",
       "    <tr>\n",
       "      <th>5</th>\n",
       "      <td>Sawpnil</td>\n",
       "      <td>30</td>\n",
       "      <td>20000</td>\n",
       "    </tr>\n",
       "    <tr>\n",
       "      <th>6</th>\n",
       "      <td>Swati</td>\n",
       "      <td>29</td>\n",
       "      <td>26000</td>\n",
       "    </tr>\n",
       "  </tbody>\n",
       "</table>\n",
       "</div>"
      ],
      "text/plain": [
       "      Name  Age  Salary\n",
       "0   Mahesh   23   10000\n",
       "1    Kiran   25   12000\n",
       "2   Suresh   28   15000\n",
       "3    Sumit   26   14000\n",
       "4   Ramesh   27   25000\n",
       "5  Sawpnil   30   20000\n",
       "6    Swati   29   26000"
      ]
     },
     "execution_count": 13,
     "metadata": {},
     "output_type": "execute_result"
    }
   ],
   "source": [
    "df = pd.read_csv(\"Book1.csv\")\n",
    "df"
   ]
  },
  {
   "cell_type": "code",
   "execution_count": 14,
   "id": "1ab67fb4-a98c-416a-9f9a-13bec8eda505",
   "metadata": {},
   "outputs": [
    {
     "data": {
      "text/plain": [
       "26000"
      ]
     },
     "execution_count": 14,
     "metadata": {},
     "output_type": "execute_result"
    }
   ],
   "source": [
    "#2. Get the maximum values of salary from the data frame.\n",
    "max_salary = df['Salary'].max()\n",
    "max_salary"
   ]
  },
  {
   "cell_type": "code",
   "execution_count": 15,
   "id": "b5dd03da-d54b-4fd3-af49-1f103bdab16b",
   "metadata": {},
   "outputs": [
    {
     "data": {
      "text/plain": [
       "10000"
      ]
     },
     "execution_count": 15,
     "metadata": {},
     "output_type": "execute_result"
    }
   ],
   "source": [
    "#3. Get the minimum values of the salary from the data frame.\n",
    "min_salary = df['Salary'].min()\n",
    "min_salary"
   ]
  },
  {
   "cell_type": "code",
   "execution_count": 16,
   "id": "95487127-73a8-42a9-95c6-9b9a94915f29",
   "metadata": {},
   "outputs": [
    {
     "data": {
      "text/html": [
       "<div>\n",
       "<style scoped>\n",
       "    .dataframe tbody tr th:only-of-type {\n",
       "        vertical-align: middle;\n",
       "    }\n",
       "\n",
       "    .dataframe tbody tr th {\n",
       "        vertical-align: top;\n",
       "    }\n",
       "\n",
       "    .dataframe thead th {\n",
       "        text-align: right;\n",
       "    }\n",
       "</style>\n",
       "<table border=\"1\" class=\"dataframe\">\n",
       "  <thead>\n",
       "    <tr style=\"text-align: right;\">\n",
       "      <th></th>\n",
       "      <th>Name</th>\n",
       "      <th>Age</th>\n",
       "      <th>Salary</th>\n",
       "    </tr>\n",
       "  </thead>\n",
       "  <tbody>\n",
       "    <tr>\n",
       "      <th>6</th>\n",
       "      <td>Swati</td>\n",
       "      <td>29</td>\n",
       "      <td>26000</td>\n",
       "    </tr>\n",
       "    <tr>\n",
       "      <th>4</th>\n",
       "      <td>Ramesh</td>\n",
       "      <td>27</td>\n",
       "      <td>25000</td>\n",
       "    </tr>\n",
       "    <tr>\n",
       "      <th>5</th>\n",
       "      <td>Sawpnil</td>\n",
       "      <td>30</td>\n",
       "      <td>20000</td>\n",
       "    </tr>\n",
       "    <tr>\n",
       "      <th>2</th>\n",
       "      <td>Suresh</td>\n",
       "      <td>28</td>\n",
       "      <td>15000</td>\n",
       "    </tr>\n",
       "    <tr>\n",
       "      <th>3</th>\n",
       "      <td>Sumit</td>\n",
       "      <td>26</td>\n",
       "      <td>14000</td>\n",
       "    </tr>\n",
       "    <tr>\n",
       "      <th>1</th>\n",
       "      <td>Kiran</td>\n",
       "      <td>25</td>\n",
       "      <td>12000</td>\n",
       "    </tr>\n",
       "    <tr>\n",
       "      <th>0</th>\n",
       "      <td>Mahesh</td>\n",
       "      <td>23</td>\n",
       "      <td>10000</td>\n",
       "    </tr>\n",
       "  </tbody>\n",
       "</table>\n",
       "</div>"
      ],
      "text/plain": [
       "      Name  Age  Salary\n",
       "6    Swati   29   26000\n",
       "4   Ramesh   27   25000\n",
       "5  Sawpnil   30   20000\n",
       "2   Suresh   28   15000\n",
       "3    Sumit   26   14000\n",
       "1    Kiran   25   12000\n",
       "0   Mahesh   23   10000"
      ]
     },
     "execution_count": 16,
     "metadata": {},
     "output_type": "execute_result"
    }
   ],
   "source": [
    "#4. Write the statement which will sort the marks in the Data Frame, in descending order.\n",
    "sorted_df = df.sort_values(by='Salary', ascending=False)\n",
    "sorted_df"
   ]
  },
  {
   "cell_type": "code",
   "execution_count": 17,
   "id": "7d683274-d050-455f-a77c-eb3eca8af3a5",
   "metadata": {},
   "outputs": [
    {
     "data": {
      "text/plain": [
       "(7, 3)"
      ]
     },
     "execution_count": 17,
     "metadata": {},
     "output_type": "execute_result"
    }
   ],
   "source": [
    "#5. Check the shape of data frame.\n",
    "df.shape"
   ]
  },
  {
   "cell_type": "code",
   "execution_count": 18,
   "id": "28c65981-fbc6-4b64-ade1-9bdc33014038",
   "metadata": {},
   "outputs": [
    {
     "data": {
      "text/html": [
       "<div>\n",
       "<style scoped>\n",
       "    .dataframe tbody tr th:only-of-type {\n",
       "        vertical-align: middle;\n",
       "    }\n",
       "\n",
       "    .dataframe tbody tr th {\n",
       "        vertical-align: top;\n",
       "    }\n",
       "\n",
       "    .dataframe thead th {\n",
       "        text-align: right;\n",
       "    }\n",
       "</style>\n",
       "<table border=\"1\" class=\"dataframe\">\n",
       "  <thead>\n",
       "    <tr style=\"text-align: right;\">\n",
       "      <th></th>\n",
       "      <th>Name</th>\n",
       "      <th>Age</th>\n",
       "      <th>Salary</th>\n",
       "    </tr>\n",
       "  </thead>\n",
       "  <tbody>\n",
       "    <tr>\n",
       "      <th>0</th>\n",
       "      <td>Mahesh</td>\n",
       "      <td>23</td>\n",
       "      <td>10000</td>\n",
       "    </tr>\n",
       "    <tr>\n",
       "      <th>1</th>\n",
       "      <td>Kiran</td>\n",
       "      <td>25</td>\n",
       "      <td>12000</td>\n",
       "    </tr>\n",
       "    <tr>\n",
       "      <th>2</th>\n",
       "      <td>Suresh</td>\n",
       "      <td>28</td>\n",
       "      <td>15000</td>\n",
       "    </tr>\n",
       "    <tr>\n",
       "      <th>3</th>\n",
       "      <td>Sumit</td>\n",
       "      <td>26</td>\n",
       "      <td>14000</td>\n",
       "    </tr>\n",
       "    <tr>\n",
       "      <th>4</th>\n",
       "      <td>Ramesh</td>\n",
       "      <td>27</td>\n",
       "      <td>25000</td>\n",
       "    </tr>\n",
       "    <tr>\n",
       "      <th>5</th>\n",
       "      <td>Sawpnil</td>\n",
       "      <td>30</td>\n",
       "      <td>20000</td>\n",
       "    </tr>\n",
       "    <tr>\n",
       "      <th>6</th>\n",
       "      <td>Swati</td>\n",
       "      <td>29</td>\n",
       "      <td>26000</td>\n",
       "    </tr>\n",
       "    <tr>\n",
       "      <th>7</th>\n",
       "      <td>Parita</td>\n",
       "      <td>32</td>\n",
       "      <td>25000</td>\n",
       "    </tr>\n",
       "  </tbody>\n",
       "</table>\n",
       "</div>"
      ],
      "text/plain": [
       "      Name  Age  Salary\n",
       "0   Mahesh   23   10000\n",
       "1    Kiran   25   12000\n",
       "2   Suresh   28   15000\n",
       "3    Sumit   26   14000\n",
       "4   Ramesh   27   25000\n",
       "5  Sawpnil   30   20000\n",
       "6    Swati   29   26000\n",
       "7   Parita   32   25000"
      ]
     },
     "execution_count": 18,
     "metadata": {},
     "output_type": "execute_result"
    }
   ],
   "source": [
    "#6. Add one row in the above data frame. (Name: Parita, Age: 32, Salary:25000)\n",
    "new_row = {'Name': 'Parita', 'Age': 32, 'Salary': 25000}\n",
    "df = pd.concat([df, pd.DataFrame([new_row])], ignore_index=True)\n",
    "df"
   ]
  },
  {
   "cell_type": "code",
   "execution_count": 19,
   "id": "043f8d0b-1d00-4329-ab73-2a4933940728",
   "metadata": {},
   "outputs": [
    {
     "data": {
      "text/plain": [
       "Name      0\n",
       "Age       0\n",
       "Salary    0\n",
       "dtype: int64"
      ]
     },
     "execution_count": 19,
     "metadata": {},
     "output_type": "execute_result"
    }
   ],
   "source": [
    "#7. Check the missing values in the data frame.\n",
    "df.isnull().sum()"
   ]
  },
  {
   "cell_type": "code",
   "execution_count": 20,
   "id": "6763926f-b0a7-4e08-ad30-d52c0957683c",
   "metadata": {},
   "outputs": [
    {
     "data": {
      "text/html": [
       "<div>\n",
       "<style scoped>\n",
       "    .dataframe tbody tr th:only-of-type {\n",
       "        vertical-align: middle;\n",
       "    }\n",
       "\n",
       "    .dataframe tbody tr th {\n",
       "        vertical-align: top;\n",
       "    }\n",
       "\n",
       "    .dataframe thead th {\n",
       "        text-align: right;\n",
       "    }\n",
       "</style>\n",
       "<table border=\"1\" class=\"dataframe\">\n",
       "  <thead>\n",
       "    <tr style=\"text-align: right;\">\n",
       "      <th></th>\n",
       "      <th>Name</th>\n",
       "      <th>Age</th>\n",
       "      <th>Salary</th>\n",
       "    </tr>\n",
       "  </thead>\n",
       "  <tbody>\n",
       "    <tr>\n",
       "      <th>2</th>\n",
       "      <td>Suresh</td>\n",
       "      <td>28</td>\n",
       "      <td>15000</td>\n",
       "    </tr>\n",
       "    <tr>\n",
       "      <th>3</th>\n",
       "      <td>Sumit</td>\n",
       "      <td>26</td>\n",
       "      <td>14000</td>\n",
       "    </tr>\n",
       "    <tr>\n",
       "      <th>4</th>\n",
       "      <td>Ramesh</td>\n",
       "      <td>27</td>\n",
       "      <td>25000</td>\n",
       "    </tr>\n",
       "    <tr>\n",
       "      <th>5</th>\n",
       "      <td>Sawpnil</td>\n",
       "      <td>30</td>\n",
       "      <td>20000</td>\n",
       "    </tr>\n",
       "    <tr>\n",
       "      <th>6</th>\n",
       "      <td>Swati</td>\n",
       "      <td>29</td>\n",
       "      <td>26000</td>\n",
       "    </tr>\n",
       "    <tr>\n",
       "      <th>7</th>\n",
       "      <td>Parita</td>\n",
       "      <td>32</td>\n",
       "      <td>25000</td>\n",
       "    </tr>\n",
       "  </tbody>\n",
       "</table>\n",
       "</div>"
      ],
      "text/plain": [
       "      Name  Age  Salary\n",
       "2   Suresh   28   15000\n",
       "3    Sumit   26   14000\n",
       "4   Ramesh   27   25000\n",
       "5  Sawpnil   30   20000\n",
       "6    Swati   29   26000\n",
       "7   Parita   32   25000"
      ]
     },
     "execution_count": 20,
     "metadata": {},
     "output_type": "execute_result"
    }
   ],
   "source": [
    "#8. Display the data frame from Suresh to Parita by slicing.\n",
    "start_idx = df.index[df['Name'] == 'Suresh'][0]\n",
    "end_idx = df.index[df['Name'] == 'Parita'][0]\n",
    "sliced_df = df.loc[start_idx:end_idx]\n",
    "sliced_df"
   ]
  },
  {
   "cell_type": "code",
   "execution_count": 21,
   "id": "217fed1c-d291-4f55-b54c-241b8f4bebf9",
   "metadata": {},
   "outputs": [
    {
     "data": {
      "image/png": "[encoded data removed]",
      "text/plain": [
       "<Figure size 800x500 with 1 Axes>"
      ]
     },
     "metadata": {},
     "output_type": "display_data"
    }
   ],
   "source": [
    "#9. Write a program to plot the ogive of random data from 1 to 20.\n",
    "data_ogive = np.random.randint(1, 21, 20)\n",
    "data_ogive.sort()\n",
    "freq = np.arange(1, len(data_ogive) + 1)\n",
    "\n",
    "\n",
    "plt.figure(figsize=(8, 5))\n",
    "plt.plot(data_ogive, freq, marker='o')\n",
    "plt.title(\"Ogive Curve (1 to 20)\")\n",
    "plt.xlabel(\"Data\")\n",
    "plt.ylabel(\"Cumulative Frequency\")\n",
    "plt.grid(True)\n",
    "plt.show()"
   ]
  },
  {
   "cell_type": "code",
   "execution_count": 22,
   "id": "b9ddab6b-1c2b-4072-b41c-db4d3d1c3180",
   "metadata": {},
   "outputs": [
    {
     "data": {
      "image/png": "[encoded data removed]",
      "text/plain": [
       "<Figure size 800x500 with 1 Axes>"
      ]
     },
     "metadata": {},
     "output_type": "display_data"
    }
   ],
   "source": [
    "#10. Write a program to plot the area chart of the data from 1 to 30.\n",
    "data_area = np.arange(1, 31)\n",
    "plt.figure(figsize=(8, 5))\n",
    "plt.fill_between(data_area, data_area, alpha=0.4)\n",
    "plt.plot(data_area, data_area, marker='o')\n",
    "plt.title(\"Area Chart (1 to 30)\")\n",
    "plt.xlabel(\"X\")\n",
    "plt.ylabel(\"Y\")\n",
    "plt.grid(True)\n",
    "plt.show()"
   ]
  },
  {
   "cell_type": "code",
   "execution_count": 24,
   "id": "86ee75a4-a34b-4ade-9b6a-d619207079e4",
   "metadata": {},
   "outputs": [
    {
     "data": {
      "text/html": [
       "<div>\n",
       "<style scoped>\n",
       "    .dataframe tbody tr th:only-of-type {\n",
       "        vertical-align: middle;\n",
       "    }\n",
       "\n",
       "    .dataframe tbody tr th {\n",
       "        vertical-align: top;\n",
       "    }\n",
       "\n",
       "    .dataframe thead th {\n",
       "        text-align: right;\n",
       "    }\n",
       "</style>\n",
       "<table border=\"1\" class=\"dataframe\">\n",
       "  <thead>\n",
       "    <tr style=\"text-align: right;\">\n",
       "      <th></th>\n",
       "      <th>Name</th>\n",
       "      <th>Maths</th>\n",
       "      <th>English</th>\n",
       "      <th>Science</th>\n",
       "    </tr>\n",
       "  </thead>\n",
       "  <tbody>\n",
       "    <tr>\n",
       "      <th>0</th>\n",
       "      <td>Ramesh</td>\n",
       "      <td>78</td>\n",
       "      <td>67</td>\n",
       "      <td>56</td>\n",
       "    </tr>\n",
       "    <tr>\n",
       "      <th>1</th>\n",
       "      <td>Vedika</td>\n",
       "      <td>76</td>\n",
       "      <td>75</td>\n",
       "      <td>47</td>\n",
       "    </tr>\n",
       "    <tr>\n",
       "      <th>2</th>\n",
       "      <td>Harun</td>\n",
       "      <td>84</td>\n",
       "      <td>59</td>\n",
       "      <td>60</td>\n",
       "    </tr>\n",
       "    <tr>\n",
       "      <th>3</th>\n",
       "      <td>Prasad</td>\n",
       "      <td>67</td>\n",
       "      <td>72</td>\n",
       "      <td>54</td>\n",
       "    </tr>\n",
       "  </tbody>\n",
       "</table>\n",
       "</div>"
      ],
      "text/plain": [
       "    Name   Maths  English  Science\n",
       "0  Ramesh     78       67       56\n",
       "1  Vedika     76       75       47\n",
       "2   Harun     84       59       60\n",
       "3  Prasad     67       72       54"
      ]
     },
     "execution_count": 24,
     "metadata": {},
     "output_type": "execute_result"
    }
   ],
   "source": [
    "#11. Create the Data Frame of the below table.\n",
    "df = pd.read_csv(\"Book2.csv\")\n",
    "df"
   ]
  },
  {
   "cell_type": "code",
   "execution_count": 25,
   "id": "2d82eae7-9baf-4b12-8c2b-7f8e997a8375",
   "metadata": {},
   "outputs": [
    {
     "data": {
      "text/plain": [
       "np.int64(67)"
      ]
     },
     "execution_count": 25,
     "metadata": {},
     "output_type": "execute_result"
    }
   ],
   "source": [
    "#12. Access the element in the 1st row in the 3rd column.\n",
    "element_1_3 = df.iloc[0, 2]  # Row index 0, Column index 2\n",
    "element_1_3"
   ]
  },
  {
   "cell_type": "code",
   "execution_count": 27,
   "id": "71640a44-9933-481c-944a-b4bb00481c2d",
   "metadata": {},
   "outputs": [
    {
     "data": {
      "text/plain": [
       "0    67\n",
       "1    75\n",
       "2    59\n",
       "3    72\n",
       "Name: English, dtype: int64"
      ]
     },
     "execution_count": 27,
     "metadata": {},
     "output_type": "execute_result"
    }
   ],
   "source": [
    "#13. Access all the element in 3rd column.\n",
    "third_column = df.iloc[:, 2] \n",
    "third_column"
   ]
  },
  {
   "cell_type": "code",
   "execution_count": 28,
   "id": "7022b083-6be9-4f52-a85e-41ac8eab9cb6",
   "metadata": {},
   "outputs": [
    {
     "data": {
      "text/html": [
       "<div>\n",
       "<style scoped>\n",
       "    .dataframe tbody tr th:only-of-type {\n",
       "        vertical-align: middle;\n",
       "    }\n",
       "\n",
       "    .dataframe tbody tr th {\n",
       "        vertical-align: top;\n",
       "    }\n",
       "\n",
       "    .dataframe thead th {\n",
       "        text-align: right;\n",
       "    }\n",
       "</style>\n",
       "<table border=\"1\" class=\"dataframe\">\n",
       "  <thead>\n",
       "    <tr style=\"text-align: right;\">\n",
       "      <th></th>\n",
       "      <th>Name</th>\n",
       "      <th>Maths</th>\n",
       "    </tr>\n",
       "  </thead>\n",
       "  <tbody>\n",
       "    <tr>\n",
       "      <th>1</th>\n",
       "      <td>Vedika</td>\n",
       "      <td>76</td>\n",
       "    </tr>\n",
       "    <tr>\n",
       "      <th>2</th>\n",
       "      <td>Harun</td>\n",
       "      <td>84</td>\n",
       "    </tr>\n",
       "  </tbody>\n",
       "</table>\n",
       "</div>"
      ],
      "text/plain": [
       "    Name   Maths\n",
       "1  Vedika     76\n",
       "2   Harun     84"
      ]
     },
     "execution_count": 28,
     "metadata": {},
     "output_type": "execute_result"
    }
   ],
   "source": [
    "#14. Access elements of 2nd and 3rd row from 1st and 2nd column.\n",
    "subset_rows_cols = df.iloc[1:3, 0:2] \n",
    "subset_rows_cols"
   ]
  },
  {
   "cell_type": "code",
   "execution_count": 30,
   "id": "2bdbd97f-4555-477a-bb6b-dd9248aacc3f",
   "metadata": {},
   "outputs": [
    {
     "data": {
      "image/png": "[encoded data removed]",
      "text/plain": [
       "<Figure size 600x600 with 1 Axes>"
      ]
     },
     "metadata": {},
     "output_type": "display_data"
    }
   ],
   "source": [
    "# 15. Plot a pie chart of given values and categories\n",
    "values = [3, 4, 7, 9]\n",
    "categories = ['A', 'B', 'C', 'D']\n",
    "\n",
    "\n",
    "plt.figure(figsize=(6, 6))\n",
    "plt.pie(values, labels=categories, autopct='%1.1f%%', startangle=90)\n",
    "plt.title(\"Pie Chart of Given Categories\")\n",
    "plt.show()"
   ]
  },
  {
   "cell_type": "code",
   "execution_count": 31,
   "id": "c0e8fd23-7906-404f-91ec-763ba1f6733d",
   "metadata": {},
   "outputs": [
    {
     "name": "stdout",
     "output_type": "stream",
     "text": [
      "\n",
      "Series from Dictionary:\n",
      "India    New Delhi\n",
      "UK          London\n",
      "Japan        Tokyo\n",
      "dtype: object\n"
     ]
    }
   ],
   "source": [
    "# 16. Create a Series from Dictionary\n",
    "country_capitals = {'India': 'New Delhi', 'UK': 'London', 'Japan': 'Tokyo'}\n",
    "series_from_dict = pd.Series(country_capitals)\n",
    "print(\"\\nSeries from Dictionary:\")\n",
    "print(series_from_dict)"
   ]
  },
  {
   "cell_type": "code",
   "execution_count": 32,
   "id": "977a4932-0ac3-4396-8b06-a516cb8e72d5",
   "metadata": {},
   "outputs": [
    {
     "name": "stdout",
     "output_type": "stream",
     "text": [
      "\n",
      "Series from 10 to 20 with alphabet index:\n",
      "A    10\n",
      "B    11\n",
      "C    12\n",
      "D    13\n",
      "E    14\n",
      "F    15\n",
      "G    16\n",
      "H    17\n",
      "I    18\n",
      "J    19\n",
      "K    20\n",
      "dtype: int64\n"
     ]
    }
   ],
   "source": [
    "# 17. Create a Series from 10 to 20 values using numpy with alphabet index\n",
    "values_series = np.arange(10, 21)\n",
    "alphabet_index = list('ABCDEFGHIJK')  # 11 alphabets for values from 10 to 20\n",
    "series_from_numpy = pd.Series(values_series, index=alphabet_index)\n",
    "print(\"\\nSeries from 10 to 20 with alphabet index:\")\n",
    "print(series_from_numpy)"
   ]
  },
  {
   "cell_type": "code",
   "execution_count": 34,
   "id": "80a20b08-bf0f-4a33-bf4f-d7a5aafc32ce",
   "metadata": {},
   "outputs": [
    {
     "name": "stdout",
     "output_type": "stream",
     "text": [
      "Original Data: [4, 7, 10, 14, 36, 16, 18, 20, 67, 22, 2]\n",
      "Outliers Removed: [4, 7, 10, 14, 36, 16, 18, 20, 22, 2]\n"
     ]
    }
   ],
   "source": [
    "# 18. Outlier Removal from scratch\n",
    "data = [4, 7, 10, 14, 36, 16, 18, 20, 67, 22, 2]\n",
    "data_series = pd.Series(data)\n",
    "\n",
    "\n",
    "# Using IQR method\n",
    "Q1 = data_series.quantile(0.25)\n",
    "Q3 = data_series.quantile(0.75)\n",
    "IQR = Q3 - Q1\n",
    "\n",
    "lower_bound = Q1 - 1.5 * IQR\n",
    "upper_bound = Q3 + 1.5 * IQR\n",
    "\n",
    "filtered_data = data_series[(data_series >= lower_bound) & (data_series <= upper_bound)]\n",
    "print(\"Original Data:\", data)\n",
    "print(\"Outliers Removed:\", list(filtered_data))"
   ]
  },
  {
   "cell_type": "code",
   "execution_count": 35,
   "id": "27c0d74b-13f8-4502-8fc3-05947204f453",
   "metadata": {},
   "outputs": [
    {
     "name": "stdout",
     "output_type": "stream",
     "text": [
      "\n",
      "Covariance between X and Y: 10.0\n"
     ]
    }
   ],
   "source": [
    "# 19. Finding Covariance between X and Y\n",
    "X = [2, 4, 6, 8, 10]\n",
    "Y = [1, 3, 5, 7, 9]\n",
    "\n",
    "# Convert to numpy arrays\n",
    "X = np.array(X)\n",
    "Y = np.array(Y)\n",
    "\n",
    "# Calculate means\n",
    "mean_X = np.mean(X)\n",
    "mean_Y = np.mean(Y)\n",
    "\n",
    "# Covariance formula: Σ((X - mean_X) * (Y - mean_Y)) / (n-1)\n",
    "covariance = np.sum((X - mean_X) * (Y - mean_Y)) / (len(X) - 1)\n",
    "print(\"\\nCovariance between X and Y:\", covariance)"
   ]
  },
  {
   "cell_type": "code",
   "execution_count": 44,
   "id": "f193870f-0e91-48bb-ac4c-3d9ca3c03531",
   "metadata": {},
   "outputs": [
    {
     "data": {
      "text/html": [
       "<div>\n",
       "<style scoped>\n",
       "    .dataframe tbody tr th:only-of-type {\n",
       "        vertical-align: middle;\n",
       "    }\n",
       "\n",
       "    .dataframe tbody tr th {\n",
       "        vertical-align: top;\n",
       "    }\n",
       "\n",
       "    .dataframe thead th {\n",
       "        text-align: right;\n",
       "    }\n",
       "</style>\n",
       "<table border=\"1\" class=\"dataframe\">\n",
       "  <thead>\n",
       "    <tr style=\"text-align: right;\">\n",
       "      <th></th>\n",
       "      <th>a</th>\n",
       "      <th>b</th>\n",
       "      <th>c</th>\n",
       "    </tr>\n",
       "  </thead>\n",
       "  <tbody>\n",
       "    <tr>\n",
       "      <th>0</th>\n",
       "      <td>10</td>\n",
       "      <td>20</td>\n",
       "      <td>Nan</td>\n",
       "    </tr>\n",
       "    <tr>\n",
       "      <th>1</th>\n",
       "      <td>5</td>\n",
       "      <td>10</td>\n",
       "      <td>20</td>\n",
       "    </tr>\n",
       "  </tbody>\n",
       "</table>\n",
       "</div>"
      ],
      "text/plain": [
       "    a   b    c\n",
       "0  10  20  Nan\n",
       "1   5  10   20"
      ]
     },
     "execution_count": 44,
     "metadata": {},
     "output_type": "execute_result"
    }
   ],
   "source": [
    "# 20. Create a DataFrame from a List of Dictionaries\n",
    "list_of_dicts = [\n",
    "    {'a': '10', 'b': '20', 'c': 'Nan'},\n",
    "     {'a': '5', 'b': '10', 'c': '20'},\n",
    "    \n",
    "]\n",
    "\n",
    "df_from_list_of_dicts = pd.DataFrame(list_of_dicts)\n",
    "df_from_list_of_dicts\n"
   ]
  },
  {
   "cell_type": "code",
   "execution_count": 50,
   "id": "7379f3fc-cdf2-4974-8ea0-7cb14d0aabd0",
   "metadata": {},
   "outputs": [
    {
     "data": {
      "text/html": [
       "<div>\n",
       "<style scoped>\n",
       "    .dataframe tbody tr th:only-of-type {\n",
       "        vertical-align: middle;\n",
       "    }\n",
       "\n",
       "    .dataframe tbody tr th {\n",
       "        vertical-align: top;\n",
       "    }\n",
       "\n",
       "    .dataframe thead th {\n",
       "        text-align: right;\n",
       "    }\n",
       "</style>\n",
       "<table border=\"1\" class=\"dataframe\">\n",
       "  <thead>\n",
       "    <tr style=\"text-align: right;\">\n",
       "      <th></th>\n",
       "      <th>State</th>\n",
       "      <th>Area</th>\n",
       "      <th>Temp.</th>\n",
       "    </tr>\n",
       "  </thead>\n",
       "  <tbody>\n",
       "    <tr>\n",
       "      <th>0</th>\n",
       "      <td>Guj.</td>\n",
       "      <td>50123</td>\n",
       "      <td>30</td>\n",
       "    </tr>\n",
       "    <tr>\n",
       "      <th>1</th>\n",
       "      <td>Raj.</td>\n",
       "      <td>69536</td>\n",
       "      <td>35</td>\n",
       "    </tr>\n",
       "  </tbody>\n",
       "</table>\n",
       "</div>"
      ],
      "text/plain": [
       "  State   Area  Temp.\n",
       "0  Guj.  50123     30\n",
       "1  Raj.  69536     35"
      ]
     },
     "execution_count": 50,
     "metadata": {},
     "output_type": "execute_result"
    }
   ],
   "source": [
    "# 21. Create a DataFrame from a Dictionary of Lists\n",
    "dict_of_lists = {\n",
    "    'State': ['Guj.', 'Raj.'],\n",
    "    'Area': [50123, 69536],\n",
    "    'Temp.': [30, 35]\n",
    "}\n",
    "\n",
    "df_from_dict_of_lists = pd.DataFrame(dict_of_lists)\n",
    "df_from_dict_of_lists"
   ]
  },
  {
   "cell_type": "code",
   "execution_count": 60,
   "id": "5db35824-6c44-40e3-9d25-389f0124dd61",
   "metadata": {},
   "outputs": [
    {
     "data": {
      "text/html": [
       "<div>\n",
       "<style scoped>\n",
       "    .dataframe tbody tr th:only-of-type {\n",
       "        vertical-align: middle;\n",
       "    }\n",
       "\n",
       "    .dataframe tbody tr th {\n",
       "        vertical-align: top;\n",
       "    }\n",
       "\n",
       "    .dataframe thead th {\n",
       "        text-align: right;\n",
       "    }\n",
       "</style>\n",
       "<table border=\"1\" class=\"dataframe\">\n",
       "  <thead>\n",
       "    <tr style=\"text-align: right;\">\n",
       "      <th></th>\n",
       "      <th></th>\n",
       "      <th>0</th>\n",
       "    </tr>\n",
       "  </thead>\n",
       "  <tbody>\n",
       "    <tr>\n",
       "      <th>0</th>\n",
       "      <td>a</td>\n",
       "      <td>1</td>\n",
       "    </tr>\n",
       "    <tr>\n",
       "      <th>1</th>\n",
       "      <td>b</td>\n",
       "      <td>2</td>\n",
       "    </tr>\n",
       "    <tr>\n",
       "      <th>2</th>\n",
       "      <td>c</td>\n",
       "      <td>3</td>\n",
       "    </tr>\n",
       "    <tr>\n",
       "      <th>3</th>\n",
       "      <td>d</td>\n",
       "      <td>4</td>\n",
       "    </tr>\n",
       "    <tr>\n",
       "      <th>4</th>\n",
       "      <td>e</td>\n",
       "      <td>5</td>\n",
       "    </tr>\n",
       "  </tbody>\n",
       "</table>\n",
       "</div>"
      ],
      "text/plain": [
       "      0\n",
       "0  a  1\n",
       "1  b  2\n",
       "2  c  3\n",
       "3  d  4\n",
       "4  e  5"
      ]
     },
     "execution_count": 60,
     "metadata": {},
     "output_type": "execute_result"
    }
   ],
   "source": [
    "#Create a Data frame from Series.\n",
    "num_series = pd.Series([1, 2, 3, 4, 5])\n",
    "alpha_series = pd.Series(['a','b','c','d','e'])\n",
    "\n",
    "\n",
    "df_from_series = pd.DataFrame({\n",
    "    '': alpha_series,\n",
    "    '0': num_series,\n",
    "})\n",
    "\n",
    "df_from_series"
   ]
  },
  {
   "cell_type": "code",
   "execution_count": 63,
   "id": "67e83734-342c-423e-9826-1a41385cffeb",
   "metadata": {},
   "outputs": [
    {
     "data": {
      "text/html": [
       "<div>\n",
       "<style scoped>\n",
       "    .dataframe tbody tr th:only-of-type {\n",
       "        vertical-align: middle;\n",
       "    }\n",
       "\n",
       "    .dataframe tbody tr th {\n",
       "        vertical-align: top;\n",
       "    }\n",
       "\n",
       "    .dataframe thead th {\n",
       "        text-align: right;\n",
       "    }\n",
       "</style>\n",
       "<table border=\"1\" class=\"dataframe\">\n",
       "  <thead>\n",
       "    <tr style=\"text-align: right;\">\n",
       "      <th></th>\n",
       "      <th>Arnab</th>\n",
       "      <th>Ramit</th>\n",
       "      <th>Samridhi</th>\n",
       "      <th>Riya</th>\n",
       "      <th>Mallika</th>\n",
       "    </tr>\n",
       "  </thead>\n",
       "  <tbody>\n",
       "    <tr>\n",
       "      <th>Maths</th>\n",
       "      <td>90</td>\n",
       "      <td>92</td>\n",
       "      <td>89</td>\n",
       "      <td>81</td>\n",
       "      <td>94</td>\n",
       "    </tr>\n",
       "    <tr>\n",
       "      <th>Science</th>\n",
       "      <td>91</td>\n",
       "      <td>81</td>\n",
       "      <td>91</td>\n",
       "      <td>71</td>\n",
       "      <td>95</td>\n",
       "    </tr>\n",
       "    <tr>\n",
       "      <th>Hindi</th>\n",
       "      <td>97</td>\n",
       "      <td>96</td>\n",
       "      <td>88</td>\n",
       "      <td>67</td>\n",
       "      <td>99</td>\n",
       "    </tr>\n",
       "  </tbody>\n",
       "</table>\n",
       "</div>"
      ],
      "text/plain": [
       "         Arnab  Ramit  Samridhi  Riya  Mallika\n",
       "Maths       90     92        89    81       94\n",
       "Science     91     81        91    71       95\n",
       "Hindi       97     96        88    67       99"
      ]
     },
     "execution_count": 63,
     "metadata": {},
     "output_type": "execute_result"
    }
   ],
   "source": [
    "# 23 Create a dictionary of Series based on the given table\n",
    "dict_of_series = {\n",
    "    'Arnab': pd.Series({'Maths': 90, 'Science': 91, 'Hindi': 97}),\n",
    "    'Ramit': pd.Series({'Maths': 92, 'Science': 81, 'Hindi': 96}),\n",
    "    'Samridhi': pd.Series({'Maths': 89, 'Science': 91, 'Hindi': 88}),\n",
    "    'Riya': pd.Series({'Maths': 81, 'Science': 71, 'Hindi': 67}),\n",
    "    'Mallika': pd.Series({'Maths': 94, 'Science': 95, 'Hindi': 99})\n",
    "}\n",
    "\n",
    "df_from_dict_of_series = pd.DataFrame(dict_of_series)\n",
    "\n",
    "df_from_dict_of_series"
   ]
  },
  {
   "cell_type": "code",
   "execution_count": 75,
   "id": "bc65fe17-dd1f-49b7-bf94-adeea0c7555f",
   "metadata": {},
   "outputs": [
    {
     "name": "stdout",
     "output_type": "stream",
     "text": [
      "Original Dataset:\n",
      "   Name   Age  Salary Department\n",
      "0    A  25.0   50000         IT\n",
      "1    B  30.0   54000         HR\n",
      "2    C  22.0   50000         IT\n",
      "3    D   NaN   58000      Sales\n",
      "4  NaN  28.0   62000         HR\n",
      "5    B  30.0   54000         HR\n",
      "\n",
      "After Data Cleaning:\n",
      "   Name   Age  Salary Department\n",
      "0    A  25.0   50000         IT\n",
      "1    B  30.0   54000         HR\n",
      "2    C  22.0   50000         IT\n",
      "3    D  27.0   58000      Sales\n",
      "4    B  28.0   62000         HR\n"
     ]
    }
   ],
   "source": [
    "#24. Do the following pre- processing techniques on the different 10 data sets.\n",
    "#(a) Data Cleaning (Handling missing value for rows/columns, Handling Duplicates,\n",
    "#Outliers detection and removal)\n",
    "\n",
    "import pandas as pd\n",
    "import numpy as np\n",
    "\n",
    "# Example dataset (replace with your dataset)\n",
    "df = pd.DataFrame({\n",
    "    'Name': ['A', 'B', 'C', 'D', np.nan, 'B'],\n",
    "    'Age': [25, 30, 22, np.nan, 28, 30],\n",
    "    'Salary': [50000, 54000, 50000, 58000, 62000, 54000],\n",
    "    'Department': ['IT', 'HR', 'IT', 'Sales', 'HR', 'HR']\n",
    "})\n",
    "print(\"Original Dataset:\\n\", df)\n",
    "\n",
    "# Handling Missing Values\n",
    "df['Age'] = df['Age'].fillna(df['Age'].mean())\n",
    "df['Name'] = df['Name'].fillna(df['Name'].mode()[0])\n",
    "\n",
    "# Handling Duplicates\n",
    "df.drop_duplicates(inplace=True)\n",
    "\n",
    "# Outlier Detection & Removal (IQR method on Salary)\n",
    "Q1 = df['Salary'].quantile(0.25)\n",
    "Q3 = df['Salary'].quantile(0.75)\n",
    "IQR = Q3 - Q1\n",
    "lower_bound = Q1 - 1.5 * IQR\n",
    "upper_bound = Q3 + 1.5 * IQR\n",
    "df = df[(df['Salary'] >= lower_bound) & (df['Salary'] <= upper_bound)]\n",
    "\n",
    "print(\"\\nAfter Data Cleaning:\\n\", df)\n"
   ]
  },
  {
   "cell_type": "code",
   "execution_count": 71,
   "id": "03977afe-e498-4789-b152-da3919076d64",
   "metadata": {},
   "outputs": [
    {
     "name": "stdout",
     "output_type": "stream",
     "text": [
      "\n",
      "Categorical Data Encoded:\n",
      "   Department  Department_Encoded\n",
      "0         IT                   1\n",
      "1         HR                   0\n",
      "2         IT                   1\n",
      "3      Sales                   2\n",
      "4         HR                   0\n"
     ]
    }
   ],
   "source": [
    "#(b) Handling Categorical data\n",
    "from sklearn.preprocessing import LabelEncoder\n",
    "\n",
    "# Assuming df from above\n",
    "label_encoder = LabelEncoder()\n",
    "df['Department_Encoded'] = label_encoder.fit_transform(df['Department'])\n",
    "\n",
    "print(\"\\nCategorical Data Encoded:\\n\", df[['Department', 'Department_Encoded']])\n"
   ]
  },
  {
   "cell_type": "code",
   "execution_count": 72,
   "id": "68edb977-c343-44bf-b4a8-6f1c1487553d",
   "metadata": {},
   "outputs": [
    {
     "name": "stdout",
     "output_type": "stream",
     "text": [
      "\n",
      "Data after Scaling:\n",
      "    Salary  Salary_Scaled\n",
      "0   50000      -1.028992\n",
      "1   54000      -0.171499\n",
      "2   50000      -1.028992\n",
      "3   58000       0.685994\n",
      "4   62000       1.543487\n"
     ]
    }
   ],
   "source": [
    "#(c) Scaling of the data\n",
    "from sklearn.preprocessing import StandardScaler\n",
    "\n",
    "# Scaling Salary column\n",
    "scaler = StandardScaler()\n",
    "df['Salary_Scaled'] = scaler.fit_transform(df[['Salary']])\n",
    "\n",
    "print(\"\\nData after Scaling:\\n\", df[['Salary', 'Salary_Scaled']])\n"
   ]
  },
  {
   "cell_type": "code",
   "execution_count": 73,
   "id": "0c389f22-c771-43f0-8c78-7a9f15f7670c",
   "metadata": {},
   "outputs": [
    {
     "name": "stdout",
     "output_type": "stream",
     "text": [
      "\n",
      "Data after Normalization:\n",
      "    Salary  Salary_Normalized\n",
      "0   50000                1.0\n",
      "1   54000                1.0\n",
      "2   50000                1.0\n",
      "3   58000                1.0\n",
      "4   62000                1.0\n"
     ]
    }
   ],
   "source": [
    "#(d) Data Normalization\n",
    "from sklearn.preprocessing import Normalizer\n",
    "\n",
    "# Normalizing Salary column\n",
    "normalizer = Normalizer()\n",
    "df[['Salary_Normalized']] = normalizer.fit_transform(df[['Salary']])\n",
    "\n",
    "print(\"\\nData after Normalization:\\n\", df[['Salary', 'Salary_Normalized']])\n"
   ]
  },
  {
   "cell_type": "code",
   "execution_count": 74,
   "id": "d05c4b7a-5d9b-4580-97ed-2326c39613e2",
   "metadata": {},
   "outputs": [
    {
     "name": "stdout",
     "output_type": "stream",
     "text": [
      "\n",
      "Insights:\n",
      "Average Salary: 54800.0\n",
      "Highest Salary: 62000\n",
      "Number of Employees in HR: 2\n"
     ]
    }
   ],
   "source": [
    "#(e) Identity insights which could be drawn from data and demonstrations of the same\n",
    "print(\"\\nInsights:\")\n",
    "print(\"Average Salary:\", df['Salary'].mean())\n",
    "print(\"Highest Salary:\", df['Salary'].max())\n",
    "print(\"Number of Employees in HR:\", sum(df['Department'] == 'HR'))\n"
   ]
  },
  {
   "cell_type": "code",
   "execution_count": null,
   "id": "07c8649f-2ef7-402a-a839-661d48685c76",
   "metadata": {},
   "outputs": [],
   "source": []
  }
 ],
 "metadata": {
  "kernelspec": {
   "display_name": "Python [conda env:base] *",
   "language": "python",
   "name": "conda-base-py"
  },
  "language_info": {
   "codemirror_mode": {
    "name": "ipython",
    "version": 3
   },
   "file_extension": ".py",
   "mimetype": "text/x-python",
   "name": "python",
   "nbconvert_exporter": "python",
   "pygments_lexer": "ipython3",
   "version": "3.13.5"
  }
 },
 "nbformat": 4,
 "nbformat_minor": 5
}
